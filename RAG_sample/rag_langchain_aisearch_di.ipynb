{
 "cells": [
  {
   "cell_type": "markdown",
   "metadata": {},
   "source": [
    "Here is referenced to this source code \"https://github.com/microsoft/Form-Recognizer-Toolkit/blob/main/SampleCode/Python/sample_rag_langchain.ipynb\""
   ]
  },
  {
   "cell_type": "code",
   "execution_count": 1,
   "metadata": {},
   "outputs": [
    {
     "name": "stdout",
     "output_type": "stream",
     "text": [
      "Requirement already satisfied: python-dotenv in /Users/sithukaungset/Azure-AI-Search-prompthon/venv/lib/python3.10/site-packages (1.0.1)\n",
      "Requirement already satisfied: langchain in /Users/sithukaungset/Azure-AI-Search-prompthon/venv/lib/python3.10/site-packages (0.1.8)\n",
      "Requirement already satisfied: langchain-community in /Users/sithukaungset/Azure-AI-Search-prompthon/venv/lib/python3.10/site-packages (0.0.31)\n",
      "Requirement already satisfied: langchain-openai in /Users/sithukaungset/Azure-AI-Search-prompthon/venv/lib/python3.10/site-packages (0.0.6)\n",
      "Requirement already satisfied: langchainhub in /Users/sithukaungset/Azure-AI-Search-prompthon/venv/lib/python3.10/site-packages (0.1.15)\n",
      "Requirement already satisfied: openai in /Users/sithukaungset/Azure-AI-Search-prompthon/venv/lib/python3.10/site-packages (1.16.2)\n",
      "Requirement already satisfied: tiktoken in /Users/sithukaungset/Azure-AI-Search-prompthon/venv/lib/python3.10/site-packages (0.6.0)\n",
      "Requirement already satisfied: azure-ai-documentintelligence in /Users/sithukaungset/Azure-AI-Search-prompthon/venv/lib/python3.10/site-packages (1.0.0b3)\n",
      "Requirement already satisfied: azure-identity in /Users/sithukaungset/Azure-AI-Search-prompthon/venv/lib/python3.10/site-packages (1.15.0)\n",
      "Requirement already satisfied: azure-search-documents==11.6.0b3 in /Users/sithukaungset/Azure-AI-Search-prompthon/venv/lib/python3.10/site-packages (11.6.0b3)\n",
      "Requirement already satisfied: isodate>=0.6.0 in /Users/sithukaungset/Azure-AI-Search-prompthon/venv/lib/python3.10/site-packages (from azure-search-documents==11.6.0b3) (0.6.1)\n",
      "Requirement already satisfied: azure-common>=1.1 in /Users/sithukaungset/Azure-AI-Search-prompthon/venv/lib/python3.10/site-packages (from azure-search-documents==11.6.0b3) (1.1.28)\n",
      "Requirement already satisfied: azure-core>=1.28.0 in /Users/sithukaungset/Azure-AI-Search-prompthon/venv/lib/python3.10/site-packages (from azure-search-documents==11.6.0b3) (1.30.1)\n",
      "Requirement already satisfied: SQLAlchemy<3,>=1.4 in /Users/sithukaungset/Azure-AI-Search-prompthon/venv/lib/python3.10/site-packages (from langchain) (2.0.29)\n",
      "Requirement already satisfied: jsonpatch<2.0,>=1.33 in /Users/sithukaungset/Azure-AI-Search-prompthon/venv/lib/python3.10/site-packages (from langchain) (1.33)\n",
      "Requirement already satisfied: aiohttp<4.0.0,>=3.8.3 in /Users/sithukaungset/Azure-AI-Search-prompthon/venv/lib/python3.10/site-packages (from langchain) (3.9.3)\n",
      "Requirement already satisfied: dataclasses-json<0.7,>=0.5.7 in /Users/sithukaungset/Azure-AI-Search-prompthon/venv/lib/python3.10/site-packages (from langchain) (0.6.4)\n",
      "Requirement already satisfied: PyYAML>=5.3 in /Users/sithukaungset/Azure-AI-Search-prompthon/venv/lib/python3.10/site-packages (from langchain) (6.0.1)\n",
      "Requirement already satisfied: pydantic<3,>=1 in /Users/sithukaungset/Azure-AI-Search-prompthon/venv/lib/python3.10/site-packages (from langchain) (2.6.4)\n",
      "Requirement already satisfied: requests<3,>=2 in /Users/sithukaungset/Azure-AI-Search-prompthon/venv/lib/python3.10/site-packages (from langchain) (2.31.0)\n",
      "Requirement already satisfied: numpy<2,>=1 in /Users/sithukaungset/Azure-AI-Search-prompthon/venv/lib/python3.10/site-packages (from langchain) (1.26.4)\n",
      "Requirement already satisfied: langsmith<0.2.0,>=0.1.0 in /Users/sithukaungset/Azure-AI-Search-prompthon/venv/lib/python3.10/site-packages (from langchain) (0.1.41)\n",
      "Requirement already satisfied: tenacity<9.0.0,>=8.1.0 in /Users/sithukaungset/Azure-AI-Search-prompthon/venv/lib/python3.10/site-packages (from langchain) (8.2.3)\n",
      "Requirement already satisfied: langchain-core<0.2,>=0.1.24 in /Users/sithukaungset/Azure-AI-Search-prompthon/venv/lib/python3.10/site-packages (from langchain) (0.1.40)\n",
      "Requirement already satisfied: async-timeout<5.0.0,>=4.0.0 in /Users/sithukaungset/Azure-AI-Search-prompthon/venv/lib/python3.10/site-packages (from langchain) (4.0.3)\n",
      "Requirement already satisfied: types-requests<3.0.0.0,>=2.31.0.2 in /Users/sithukaungset/Azure-AI-Search-prompthon/venv/lib/python3.10/site-packages (from langchainhub) (2.31.0.20240406)\n",
      "Requirement already satisfied: httpx<1,>=0.23.0 in /Users/sithukaungset/Azure-AI-Search-prompthon/venv/lib/python3.10/site-packages (from openai) (0.27.0)\n",
      "Requirement already satisfied: sniffio in /Users/sithukaungset/Azure-AI-Search-prompthon/venv/lib/python3.10/site-packages (from openai) (1.3.1)\n",
      "Requirement already satisfied: tqdm>4 in /Users/sithukaungset/Azure-AI-Search-prompthon/venv/lib/python3.10/site-packages (from openai) (4.66.2)\n",
      "Requirement already satisfied: typing-extensions<5,>=4.7 in /Users/sithukaungset/Azure-AI-Search-prompthon/venv/lib/python3.10/site-packages (from openai) (4.11.0)\n",
      "Requirement already satisfied: anyio<5,>=3.5.0 in /Users/sithukaungset/Azure-AI-Search-prompthon/venv/lib/python3.10/site-packages (from openai) (4.3.0)\n",
      "Requirement already satisfied: distro<2,>=1.7.0 in /Users/sithukaungset/Azure-AI-Search-prompthon/venv/lib/python3.10/site-packages (from openai) (1.9.0)\n",
      "Requirement already satisfied: regex>=2022.1.18 in /Users/sithukaungset/Azure-AI-Search-prompthon/venv/lib/python3.10/site-packages (from tiktoken) (2023.12.25)\n",
      "Requirement already satisfied: msal<2.0.0,>=1.24.0 in /Users/sithukaungset/Azure-AI-Search-prompthon/venv/lib/python3.10/site-packages (from azure-identity) (1.28.0)\n",
      "Requirement already satisfied: msal-extensions<2.0.0,>=0.3.0 in /Users/sithukaungset/Azure-AI-Search-prompthon/venv/lib/python3.10/site-packages (from azure-identity) (1.1.0)\n",
      "Requirement already satisfied: cryptography>=2.5 in /Users/sithukaungset/Azure-AI-Search-prompthon/venv/lib/python3.10/site-packages (from azure-identity) (42.0.5)\n",
      "Requirement already satisfied: attrs>=17.3.0 in /Users/sithukaungset/Azure-AI-Search-prompthon/venv/lib/python3.10/site-packages (from aiohttp<4.0.0,>=3.8.3->langchain) (23.2.0)\n",
      "Requirement already satisfied: yarl<2.0,>=1.0 in /Users/sithukaungset/Azure-AI-Search-prompthon/venv/lib/python3.10/site-packages (from aiohttp<4.0.0,>=3.8.3->langchain) (1.9.4)\n",
      "Requirement already satisfied: multidict<7.0,>=4.5 in /Users/sithukaungset/Azure-AI-Search-prompthon/venv/lib/python3.10/site-packages (from aiohttp<4.0.0,>=3.8.3->langchain) (6.0.5)\n",
      "Requirement already satisfied: frozenlist>=1.1.1 in /Users/sithukaungset/Azure-AI-Search-prompthon/venv/lib/python3.10/site-packages (from aiohttp<4.0.0,>=3.8.3->langchain) (1.4.1)\n",
      "Requirement already satisfied: aiosignal>=1.1.2 in /Users/sithukaungset/Azure-AI-Search-prompthon/venv/lib/python3.10/site-packages (from aiohttp<4.0.0,>=3.8.3->langchain) (1.3.1)\n",
      "Requirement already satisfied: exceptiongroup>=1.0.2 in /Users/sithukaungset/Azure-AI-Search-prompthon/venv/lib/python3.10/site-packages (from anyio<5,>=3.5.0->openai) (1.2.0)\n",
      "Requirement already satisfied: idna>=2.8 in /Users/sithukaungset/Azure-AI-Search-prompthon/venv/lib/python3.10/site-packages (from anyio<5,>=3.5.0->openai) (3.6)\n",
      "Requirement already satisfied: six>=1.11.0 in /Users/sithukaungset/Azure-AI-Search-prompthon/venv/lib/python3.10/site-packages (from azure-core>=1.28.0->azure-search-documents==11.6.0b3) (1.16.0)\n",
      "Requirement already satisfied: cffi>=1.12 in /Users/sithukaungset/Azure-AI-Search-prompthon/venv/lib/python3.10/site-packages (from cryptography>=2.5->azure-identity) (1.16.0)\n",
      "Requirement already satisfied: typing-inspect<1,>=0.4.0 in /Users/sithukaungset/Azure-AI-Search-prompthon/venv/lib/python3.10/site-packages (from dataclasses-json<0.7,>=0.5.7->langchain) (0.9.0)\n",
      "Requirement already satisfied: marshmallow<4.0.0,>=3.18.0 in /Users/sithukaungset/Azure-AI-Search-prompthon/venv/lib/python3.10/site-packages (from dataclasses-json<0.7,>=0.5.7->langchain) (3.21.1)\n",
      "Requirement already satisfied: certifi in /Users/sithukaungset/Azure-AI-Search-prompthon/venv/lib/python3.10/site-packages (from httpx<1,>=0.23.0->openai) (2024.2.2)\n",
      "Requirement already satisfied: httpcore==1.* in /Users/sithukaungset/Azure-AI-Search-prompthon/venv/lib/python3.10/site-packages (from httpx<1,>=0.23.0->openai) (1.0.5)\n",
      "Requirement already satisfied: h11<0.15,>=0.13 in /Users/sithukaungset/Azure-AI-Search-prompthon/venv/lib/python3.10/site-packages (from httpcore==1.*->httpx<1,>=0.23.0->openai) (0.14.0)\n",
      "Requirement already satisfied: jsonpointer>=1.9 in /Users/sithukaungset/Azure-AI-Search-prompthon/venv/lib/python3.10/site-packages (from jsonpatch<2.0,>=1.33->langchain) (2.4)\n",
      "Requirement already satisfied: packaging<24.0,>=23.2 in /Users/sithukaungset/Azure-AI-Search-prompthon/venv/lib/python3.10/site-packages (from langchain-core<0.2,>=0.1.24->langchain) (23.2)\n",
      "Requirement already satisfied: orjson<4.0.0,>=3.9.14 in /Users/sithukaungset/Azure-AI-Search-prompthon/venv/lib/python3.10/site-packages (from langsmith<0.2.0,>=0.1.0->langchain) (3.10.0)\n",
      "Requirement already satisfied: PyJWT[crypto]<3,>=1.0.0 in /Users/sithukaungset/Azure-AI-Search-prompthon/venv/lib/python3.10/site-packages (from msal<2.0.0,>=1.24.0->azure-identity) (2.8.0)\n",
      "Requirement already satisfied: portalocker<3,>=1.0 in /Users/sithukaungset/Azure-AI-Search-prompthon/venv/lib/python3.10/site-packages (from msal-extensions<2.0.0,>=0.3.0->azure-identity) (2.8.2)\n",
      "Requirement already satisfied: pydantic-core==2.16.3 in /Users/sithukaungset/Azure-AI-Search-prompthon/venv/lib/python3.10/site-packages (from pydantic<3,>=1->langchain) (2.16.3)\n",
      "Requirement already satisfied: annotated-types>=0.4.0 in /Users/sithukaungset/Azure-AI-Search-prompthon/venv/lib/python3.10/site-packages (from pydantic<3,>=1->langchain) (0.6.0)\n",
      "Requirement already satisfied: charset-normalizer<4,>=2 in /Users/sithukaungset/Azure-AI-Search-prompthon/venv/lib/python3.10/site-packages (from requests<3,>=2->langchain) (3.3.2)\n",
      "Requirement already satisfied: urllib3<3,>=1.21.1 in /Users/sithukaungset/Azure-AI-Search-prompthon/venv/lib/python3.10/site-packages (from requests<3,>=2->langchain) (2.2.1)\n",
      "Requirement already satisfied: pycparser in /Users/sithukaungset/Azure-AI-Search-prompthon/venv/lib/python3.10/site-packages (from cffi>=1.12->cryptography>=2.5->azure-identity) (2.22)\n",
      "Requirement already satisfied: mypy-extensions>=0.3.0 in /Users/sithukaungset/Azure-AI-Search-prompthon/venv/lib/python3.10/site-packages (from typing-inspect<1,>=0.4.0->dataclasses-json<0.7,>=0.5.7->langchain) (1.0.0)\n",
      "\u001b[33mWARNING: You are using pip version 22.0.4; however, version 24.0 is available.\n",
      "You should consider upgrading via the '/Users/sithukaungset/Azure-AI-Search-prompthon/venv/bin/python3 -m pip install --upgrade pip' command.\u001b[0m\u001b[33m\n",
      "\u001b[0m"
     ]
    }
   ],
   "source": [
    "! pip install python-dotenv langchain langchain-community langchain-openai langchainhub openai tiktoken azure-ai-documentintelligence azure-identity azure-search-documents==11.6.0b3\n"
   ]
  },
  {
   "cell_type": "code",
   "execution_count": 2,
   "metadata": {},
   "outputs": [],
   "source": [
    "\n",
    "\"\"\"\n",
    "This code loads environment variables using the `dotenv` library and sets the necessary environment variables for Azure services.\n",
    "The environment variables are loaded from the `.env` file in the same directory as this notebook.\n",
    "\"\"\"\n",
    "import os\n",
    "from dotenv import load_dotenv\n",
    "\n",
    "load_dotenv()\n",
    "\n",
    "os.environ[\"AZURE_OPENAI_ENDPOINT\"] = os.getenv(\"AZURE_OPENAI_ENDPOINT\")\n",
    "os.environ[\"AZURE_OPENAI_API_KEY\"] = os.getenv(\"AZURE_OPENAI_KEY\")\n",
    "doc_intelligence_endpoint = os.getenv(\"AZURE_DOCUMENT_INTELLIGENCE_ENDPOINT\")\n",
    "doc_intelligence_key = os.getenv(\"AZURE_DOCUMENT_INTELLIGENCE_KEY\")\n",
    "\n",
    "os.environ[\"AZURE_DEPLOYMENT\"] = os.getenv(\"AZURE_OPENAI_EMBEDDING_MODEL_NAME\")\n",
    "os.environ[\"OPENAI_API_VERSION\"] = os.getenv(\"AZURE_OPENAI_API_VERSION\")\n",
    "\n",
    "os.environ[\"AZURE_SEARCH_ENDPOINT\"] = os.getenv(\"AZURE_SEARCH_SERVICE_ENDPOINT\")\n",
    "os.environ[\"AZURE_SEARCH_ADMIN_KEY\"] = os.getenv(\"AZURE_SEARCH_ADMIN_KEY\")\n",
    "\n"
   ]
  },
  {
   "cell_type": "code",
   "execution_count": 3,
   "metadata": {},
   "outputs": [],
   "source": [
    "from langchain import hub\n",
    "from langchain_openai import AzureChatOpenAI\n",
    "from langchain_community.document_loaders import AzureAIDocumentIntelligenceLoader\n",
    "from langchain_openai import AzureOpenAIEmbeddings\n",
    "from langchain.schema import StrOutputParser\n",
    "from langchain.schema.runnable import RunnablePassthrough\n",
    "from langchain.text_splitter import MarkdownHeaderTextSplitter\n",
    "from langchain.vectorstores.azuresearch import AzureSearch"
   ]
  },
  {
   "cell_type": "markdown",
   "metadata": {},
   "source": [
    "Load a document and split it into semantic chunks"
   ]
  },
  {
   "cell_type": "code",
   "execution_count": 4,
   "metadata": {},
   "outputs": [
    {
     "name": "stdout",
     "output_type": "stream",
     "text": [
      "Length of splits: 4\n"
     ]
    }
   ],
   "source": [
    "# Initiate Azure AI Document Intelligence to load the document. You can either specify file_path or url_path to load the document.\n",
    "loader = AzureAIDocumentIntelligenceLoader(file_path=\"../data/documents/invoice.pdf\", api_key = doc_intelligence_key, api_endpoint = doc_intelligence_endpoint, api_model=\"prebuilt-layout\")\n",
    "docs = loader.load()\n",
    "\n",
    "# Split the document into chunks base on markdown headers.\n",
    "headers_to_split_on = [\n",
    "    (\"#\", \"Header 1\"),\n",
    "    (\"##\", \"Header 2\"),\n",
    "    (\"###\", \"Header 3\"),\n",
    "]\n",
    "text_splitter = MarkdownHeaderTextSplitter(headers_to_split_on=headers_to_split_on)\n",
    "\n",
    "docs_string = docs[0].page_content\n",
    "splits = text_splitter.split_text(docs_string)\n",
    "\n",
    "print(\"Length of splits: \" + str(len(splits)))\n"
   ]
  },
  {
   "cell_type": "code",
   "execution_count": 5,
   "metadata": {},
   "outputs": [],
   "source": [
    "import os\n",
    "from azure.core.exceptions import HttpResponseError\n",
    "\n",
    "# Embed the splitted documents and insert into Azure Search vector store\n",
    "\n",
    "azure_deployment = os.getenv(\"AZURE_OPENAI_EMBEDDING_DEPLOYMENT\")\n",
    "openai_api_version = os.getenv(\"AZURE_OPENAI_API_VERSION\")  # e.g., \"2023-12-01-preview\"\n",
    "\n",
    "if not azure_deployment:\n",
    "    print(\"Error: AZURE_OPENAI_EMBEDDING_DEPLOYMENT environment variable not set\")\n",
    "    exit(1)\n",
    "\n",
    "if not openai_api_version:\n",
    "    print(\"Error: AZURE_OPENAI_API_VERSION environment variable not set\")\n",
    "    exit(1)\n",
    "\n",
    "aoai_embeddings = AzureOpenAIEmbeddings(\n",
    "    azure_deployment=azure_deployment,\n",
    "    openai_api_version=openai_api_version,\n",
    ")\n",
    "\n",
    "vector_store_address: str = os.getenv(\"AZURE_SEARCH_ENDPOINT\")\n",
    "vector_store_password: str = os.getenv(\"AZURE_SEARCH_ADMIN_KEY\")\n",
    "\n",
    "if not vector_store_address:\n",
    "    print(\"Error: AZURE_SEARCH_ENDPOINT environment variable not set\")\n",
    "    exit(1)\n",
    "\n",
    "if not vector_store_password:\n",
    "    print(\"Error: AZURE_SEARCH_ADMIN_KEY environment variable not set\")\n",
    "    exit(1)\n",
    "\n",
    "index_name: str = \"sisi\"\n",
    "\n",
    "try:\n",
    "    vector_store: AzureSearch = AzureSearch(\n",
    "        azure_search_endpoint=vector_store_address,\n",
    "        azure_search_key=vector_store_password,\n",
    "        index_name=index_name,\n",
    "        embedding_function=aoai_embeddings.embed_query,\n",
    "    )\n",
    "except HttpResponseError as e:\n",
    "    print(f\"Error creating AzureSearch: {e}\")\n",
    "    exit(1)\n",
    "\n",
    "try:\n",
    "    vector_store.add_documents(documents=splits)\n",
    "except HttpResponseError as e:\n",
    "    print(f\"Error adding documents to AzureSearch: {e}\")\n",
    "    exit(1)"
   ]
  },
  {
   "cell_type": "markdown",
   "metadata": {},
   "source": [
    "Embed and index the chunks"
   ]
  },
  {
   "cell_type": "code",
   "execution_count": null,
   "metadata": {},
   "outputs": [],
   "source": [
    "\n",
    "# # Embed the splitted documents and insert into Azure Search vector store\n",
    "\n",
    "# aoai_embeddings = AzureOpenAIEmbeddings(\n",
    "#     azure_deployment=os.getenv(\"AZURE_OPENAI_EMBEDDING_DEPLOYMENT\"),\n",
    "#     openai_api_version=os.getenv(\"AZURE_OPENAI_API_VERSION\"),  # e.g., \"2023-12-01-preview\"\n",
    "# )\n",
    "\n",
    "# vector_store_address: str = os.getenv(\"AZURE_SEARCH_ENDPOINT\")\n",
    "# vector_store_password: str = os.getenv(\"AZURE_SEARCH_ADMIN_KEY\")\n",
    "\n",
    "# index_name: str = \"sithutest\"\n",
    "# vector_store: AzureSearch = AzureSearch(\n",
    "#     azure_search_endpoint=vector_store_address,\n",
    "#     azure_search_key=vector_store_password,\n",
    "#     index_name=index_name,\n",
    "#     embedding_function=aoai_embeddings.embed_query,\n",
    "# )\n",
    "\n",
    "# vector_store.add_documents(documents=splits)"
   ]
  },
  {
   "cell_type": "markdown",
   "metadata": {},
   "source": [
    "Retrieve relevant chunks based on a question"
   ]
  },
  {
   "cell_type": "code",
   "execution_count": 6,
   "metadata": {},
   "outputs": [
    {
     "name": "stdout",
     "output_type": "stream",
     "text": [
      "| Date | From | To |\n",
      "| - | - | - |\n",
      "| 22/10/04 | NO.1 P.S | MP.5 |\n",
      "| 22/10/05 | MP.5 | NO.1 P.S |  \n",
      "Account for Boat Service on Pilotage Operation  \n",
      "| Base | Night | Holiday | Guide Boat | G.B Night | G.B Holiday | Waiting | L.SPD / ETC |\n",
      "| - | - | - | - | - | - | - | - |\n",
      "| 331,430 | 165,715 | | | | | | |\n",
      "| 331,430 | 165,715 | | | | | | |  \n",
      "| Sub-Total | V.A.T. | Total |\n",
      "| - | - | - |\n",
      "| 497,150 | | 497,150 |\n",
      "| 497,150 | | 497,150 |\n",
      "| 994,300 | | 994,300 |  \n",
      "Total :  \n",
      "₩994,300  \n",
      "Your kind attention and earliest payment of the above to the below accounts will be highly appreciated. We would like to appreciate your kind attention card earlist payment to the below accounts.  \n",
      "| 은행명 | 입금 계좌번호 | 예금 주 |\n",
      "| - | - | - |\n",
      "| 경남은행 | 503-07-0123501 | (주)마산파일럿어카운트 |  \n",
      "<figure>  \n",
      "![](figures/3)  \n",
      "<!-- FigureContent=\"Y. G. JO\" -->  \n",
      "</figure>  \n",
      "Harbour Pilot, Masan, Korea 9275 (주)에스제이마린\n"
     ]
    }
   ],
   "source": [
    "# Retrieve relevant chunks based on the question\n",
    "\n",
    "retriever = vector_store.as_retriever(search_type=\"similarity\", search_kwargs={\"k\": 3})\n",
    "\n",
    "retrieved_docs = retriever.get_relevant_documents(\n",
    "    \"What is the total amount due?\"\n",
    ")\n",
    "\n",
    "print(retrieved_docs[0].page_content)\n",
    "\n",
    "# Use a prompt for RAG that is checked into the LangChain prompt hub (https://smith.langchain.com/hub/rlm/rag-prompt?organizationId=989ad331-949f-4bac-9694-660074a208a7)\n",
    "prompt = hub.pull(\"rlm/rag-prompt\")\n",
    "llm = AzureChatOpenAI(\n",
    "    openai_api_version=\"2023-12-01-preview\",  # e.g., \"2023-12-01-preview\"\n",
    "    azure_deployment=os.getenv(\"AZURE_OPENAI_CHATGPT_DEPLOYMENT\"),\n",
    "    temperature=0,\n",
    ")\n",
    "\n",
    "\n",
    "def format_docs(docs):\n",
    "    return \"\\n\\n\".join(doc.page_content for doc in docs)\n",
    "\n",
    "\n",
    "rag_chain = (\n",
    "    {\"context\": retriever | format_docs, \"question\": RunnablePassthrough()}\n",
    "    | prompt\n",
    "    | llm\n",
    "    | StrOutputParser()\n",
    ")"
   ]
  },
  {
   "cell_type": "markdown",
   "metadata": {},
   "source": [
    "Document Q&A"
   ]
  },
  {
   "cell_type": "code",
   "execution_count": 11,
   "metadata": {},
   "outputs": [
    {
     "data": {
      "text/plain": [
       "'The shipping agent for the owner of M/V SJ HONOR is the Masan Harbour Pilot-Boat Company.'"
      ]
     },
     "execution_count": 11,
     "metadata": {},
     "output_type": "execute_result"
    }
   ],
   "source": [
    "# Ask a question about the document\n",
    "\n",
    "rag_chain.invoke(\"Who is the shipping agent?\")"
   ]
  },
  {
   "cell_type": "markdown",
   "metadata": {},
   "source": [
    "Document Q&A with referenes"
   ]
  },
  {
   "cell_type": "code",
   "execution_count": 12,
   "metadata": {},
   "outputs": [
    {
     "data": {
      "text/plain": [
       "{'documents': [{}, {'Header 2': 'CERTIFICATE OF PILOTAGE'}, {}],\n",
       " 'answer': 'The name of the company is Masan Harbour Pilot-Boat Company.'}"
      ]
     },
     "execution_count": 12,
     "metadata": {},
     "output_type": "execute_result"
    }
   ],
   "source": [
    "# Return the retrieved documents or certain source metadata from the documents\n",
    "\n",
    "from operator import itemgetter\n",
    "\n",
    "from langchain.schema.runnable import RunnableMap\n",
    "\n",
    "rag_chain_from_docs = (\n",
    "    {\n",
    "        \"context\": lambda input: format_docs(input[\"documents\"]),\n",
    "        \"question\": itemgetter(\"question\"),\n",
    "    }\n",
    "    | prompt\n",
    "    | llm\n",
    "    | StrOutputParser()\n",
    ")\n",
    "rag_chain_with_source = RunnableMap(\n",
    "    {\"documents\": retriever, \"question\": RunnablePassthrough()}\n",
    ") | {\n",
    "    \"documents\": lambda input: [doc.metadata for doc in input[\"documents\"]],\n",
    "    \"answer\": rag_chain_from_docs,\n",
    "}\n",
    "\n",
    "rag_chain_with_source.invoke(\"What is the name of the company\")"
   ]
  }
 ],
 "metadata": {
  "kernelspec": {
   "display_name": "venv",
   "language": "python",
   "name": "python3"
  },
  "language_info": {
   "codemirror_mode": {
    "name": "ipython",
    "version": 3
   },
   "file_extension": ".py",
   "mimetype": "text/x-python",
   "name": "python",
   "nbconvert_exporter": "python",
   "pygments_lexer": "ipython3",
   "version": "3.10.4"
  }
 },
 "nbformat": 4,
 "nbformat_minor": 2
}
